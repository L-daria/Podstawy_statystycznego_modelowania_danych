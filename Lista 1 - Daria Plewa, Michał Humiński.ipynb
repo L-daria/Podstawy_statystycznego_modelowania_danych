{
 "cells": [
  {
   "cell_type": "markdown",
   "metadata": {},
   "source": [
    "# Lista 1"
   ]
  },
  {
   "cell_type": "markdown",
   "metadata": {},
   "source": [
    "## Ćwiczenie 2\n",
    "Dane iris (zawarte w podstawowym pakiecie danych w R) zawierają informacje o długości i szerokości kielicha (sepal length/width) i długości i szerokości płatka (petal length/width) w centymetrach, dla 50 kwiatów pochodzących z trzech gatunków iris: Iris setosa, Iris versicolor, Iris virginica (więcej: Anderson (1935))."
   ]
  },
  {
   "cell_type": "code",
   "execution_count": 1,
   "metadata": {},
   "outputs": [
    {
     "data": {
      "text/html": [
       "<table>\n",
       "<thead><tr><th scope=col>Sepal.Length</th><th scope=col>Sepal.Width</th><th scope=col>Petal.Length</th><th scope=col>Petal.Width</th><th scope=col>Species</th></tr></thead>\n",
       "<tbody>\n",
       "\t<tr><td>5.1   </td><td>3.5   </td><td>1.4   </td><td>0.2   </td><td>setosa</td></tr>\n",
       "\t<tr><td>4.9   </td><td>3.0   </td><td>1.4   </td><td>0.2   </td><td>setosa</td></tr>\n",
       "\t<tr><td>4.7   </td><td>3.2   </td><td>1.3   </td><td>0.2   </td><td>setosa</td></tr>\n",
       "\t<tr><td>4.6   </td><td>3.1   </td><td>1.5   </td><td>0.2   </td><td>setosa</td></tr>\n",
       "\t<tr><td>5.0   </td><td>3.6   </td><td>1.4   </td><td>0.2   </td><td>setosa</td></tr>\n",
       "\t<tr><td>5.4   </td><td>3.9   </td><td>1.7   </td><td>0.4   </td><td>setosa</td></tr>\n",
       "</tbody>\n",
       "</table>\n"
      ],
      "text/latex": [
       "\\begin{tabular}{r|lllll}\n",
       " Sepal.Length & Sepal.Width & Petal.Length & Petal.Width & Species\\\\\n",
       "\\hline\n",
       "\t 5.1    & 3.5    & 1.4    & 0.2    & setosa\\\\\n",
       "\t 4.9    & 3.0    & 1.4    & 0.2    & setosa\\\\\n",
       "\t 4.7    & 3.2    & 1.3    & 0.2    & setosa\\\\\n",
       "\t 4.6    & 3.1    & 1.5    & 0.2    & setosa\\\\\n",
       "\t 5.0    & 3.6    & 1.4    & 0.2    & setosa\\\\\n",
       "\t 5.4    & 3.9    & 1.7    & 0.4    & setosa\\\\\n",
       "\\end{tabular}\n"
      ],
      "text/markdown": [
       "\n",
       "Sepal.Length | Sepal.Width | Petal.Length | Petal.Width | Species | \n",
       "|---|---|---|---|---|---|\n",
       "| 5.1    | 3.5    | 1.4    | 0.2    | setosa | \n",
       "| 4.9    | 3.0    | 1.4    | 0.2    | setosa | \n",
       "| 4.7    | 3.2    | 1.3    | 0.2    | setosa | \n",
       "| 4.6    | 3.1    | 1.5    | 0.2    | setosa | \n",
       "| 5.0    | 3.6    | 1.4    | 0.2    | setosa | \n",
       "| 5.4    | 3.9    | 1.7    | 0.4    | setosa | \n",
       "\n",
       "\n"
      ],
      "text/plain": [
       "  Sepal.Length Sepal.Width Petal.Length Petal.Width Species\n",
       "1 5.1          3.5         1.4          0.2         setosa \n",
       "2 4.9          3.0         1.4          0.2         setosa \n",
       "3 4.7          3.2         1.3          0.2         setosa \n",
       "4 4.6          3.1         1.5          0.2         setosa \n",
       "5 5.0          3.6         1.4          0.2         setosa \n",
       "6 5.4          3.9         1.7          0.4         setosa "
      ]
     },
     "metadata": {},
     "output_type": "display_data"
    }
   ],
   "source": [
    "# wczytanie pakietu\n",
    "data(iris)\n",
    "# wyswietlenie pierwszych 6 wierszy naszych danych\n",
    "head(iris)"
   ]
  },
  {
   "cell_type": "code",
   "execution_count": null,
   "metadata": {},
   "outputs": [],
   "source": [
    "# wypisanie liczby wierszy i kolumn\n",
    "paste(\"Liczba wierszy:\", dim(iris)[1], \"; Liczba kolumn:\", dim(iris)[2])"
   ]
  },
  {
   "cell_type": "markdown",
   "metadata": {},
   "source": [
    "#### (a) Narysuj histogramy rozkładu długości i szerokości kielicha dla trzech analizowanych gatunków."
   ]
  },
  {
   "cell_type": "code",
   "execution_count": null,
   "metadata": {},
   "outputs": [],
   "source": [
    "# wypisanie unikalnych nazw gatunkow (w kolumnie Species)\n",
    "levels(iris$Species)"
   ]
  },
  {
   "cell_type": "code",
   "execution_count": null,
   "metadata": {},
   "outputs": [],
   "source": [
    "# wyodrebnienie poszczegolnych gatunkow kwiatow (wzgledem nazw w kolumnie Species)\n",
    "setosa = iris[iris$Species == \"setosa\", 1:4]\n",
    "versicolor = iris[iris$Species == \"versicolor\", 1:4]\n",
    "virginica = iris[iris$Species == \"virginica\", 1:4]"
   ]
  },
  {
   "cell_type": "code",
   "execution_count": null,
   "metadata": {
    "scrolled": false
   },
   "outputs": [],
   "source": [
    "# histogram rozkladu dlugosci kielicha dla gatunku Iris setosa\n",
    "hist(setosa$Sepal.Length, main = \"Histogram dlugosci kielicha dla gatunku Iris setosa\", xlab = \"Iris setosa\", ylab = \"Liczba kwiatow\")"
   ]
  },
  {
   "cell_type": "code",
   "execution_count": null,
   "metadata": {},
   "outputs": [],
   "source": [
    "# histogram rozkladu szerokosci kielicha dla gatunku Iris setosa\n",
    "hist(setosa$Sepal.Width, main = \"Histogram szerokosci kielicha dla gatunku Iris setosa\", xlab = \"Iris setosa\", ylab = \"Liczba kwiatow\")"
   ]
  },
  {
   "cell_type": "code",
   "execution_count": null,
   "metadata": {},
   "outputs": [],
   "source": [
    "# histogram rozkladu dlugosci kielicha dla gatunku Iris versicolor\n",
    "hist(versicolor$Sepal.Length, main = \"Histogram dlugosci kielicha dla gatunku Iris versicolor\", xlab = \"Iris versicolor\", ylab = \"Liczba kwiatow\")"
   ]
  },
  {
   "cell_type": "code",
   "execution_count": null,
   "metadata": {},
   "outputs": [],
   "source": [
    "# histogram rozkladu szerokosci kielicha dla gatunku Iris versicolor\n",
    "hist(versicolor$Sepal.Width, main = \"Histogram szerokosci kielicha dla gatunku Iris versicolor\", xlab = \"Iris versicolor\", ylab = \"Liczba kwiatow\")"
   ]
  },
  {
   "cell_type": "code",
   "execution_count": null,
   "metadata": {},
   "outputs": [],
   "source": [
    "# histogram rozkladu dlugosci kielicha dla gatunku Iris virginica\n",
    "hist(virginica$Sepal.Length, main = \"Histogram dlugosci kielicha dla gatunku Iris virginica\", xlab = \"Iris virginica\", ylab = \"Liczba kwiatow\")"
   ]
  },
  {
   "cell_type": "code",
   "execution_count": null,
   "metadata": {},
   "outputs": [],
   "source": [
    "# histogram rozkladu szerokosci kielicha dla gatunku Iris virginica\n",
    "hist(virginica$Sepal.Width, main = \"Histogram szerokosci kielicha dla gatunku Iris virginica\", xlab = \"Iris virginica\", ylab = \"Liczba kwiatow\")"
   ]
  },
  {
   "cell_type": "code",
   "execution_count": null,
   "metadata": {
    "scrolled": true
   },
   "outputs": [],
   "source": [
    "# instalacja pakietu dplyr\n",
    "#install.packages(\"dplyr\")"
   ]
  },
  {
   "cell_type": "code",
   "execution_count": null,
   "metadata": {},
   "outputs": [],
   "source": [
    "# wczytanie pakietu dplyr\n",
    "library(dplyr)"
   ]
  },
  {
   "cell_type": "code",
   "execution_count": null,
   "metadata": {
    "scrolled": false
   },
   "outputs": [],
   "source": [
    "# wykonanie powyzszych histogramow za pomoca petli for i pakietu dplyr\n",
    "for (item in unique(iris$Species)) {\n",
    "  hist((iris %>% filter(Species == item))$Sepal.Length, main = \"Histogram dla dlugosci kielicha\", xlab = item, ylab = \"Liczba kwiatow\")\n",
    "  hist((iris %>% filter(Species == item))$Sepal.Width, main = \"Histogram dla szerokosci kielicha\", xlab = item, ylab = \"Liczba kwiatow\")\n",
    "}"
   ]
  },
  {
   "cell_type": "markdown",
   "metadata": {},
   "source": [
    "##### Wnioski\n",
    "Na podstawie otrzymanych histogramów trudno określić czy rozkłady długości i rozkłady szerokości kielicha dla badanych gatunków kosaćców mają rozkład normalny (należałoby wykonać testy Shapiro-Wilka), jednak praktycznie w żadnym przypadku nie możemy wykluczyć tej ewentualności."
   ]
  },
  {
   "cell_type": "markdown",
   "metadata": {},
   "source": [
    "#### (b) Przedstaw wykresy korelacji parami dla długości i szerokości kielicha oraz długości i szerokości płatka (dla każdego gatunku osobno). Jakie widzisz zależności?"
   ]
  },
  {
   "cell_type": "code",
   "execution_count": null,
   "metadata": {},
   "outputs": [],
   "source": [
    "# obliczenie wspolczynnika korelacji zaleznosci dlugosci od szerokosci kielicha u gatunku Iris setosa\n",
    "cor.test(setosa$Sepal.Length, setosa$Sepal.Width)"
   ]
  },
  {
   "cell_type": "code",
   "execution_count": null,
   "metadata": {
    "scrolled": false
   },
   "outputs": [],
   "source": [
    "# wykonanie wykresu zaleznosci dlugosci od szerokosci kielicha u gatunku Iris setosa\n",
    "plot(setosa$Sepal.Width ~ setosa$Sepal.Length, main = \"Zaleznosc dlugosci od szerokosci kielicha u gatunku Iris setosa\", xlab = \"Dlugosc kielicha\", ylab = \"Szerokosc kielicha\")\n",
    "# dodanie prostej regresji zaleznosci dlugosci od szerokosci kielicha dla gatunku Iris setosa\n",
    "abline(lm(setosa$Sepal.Width ~ setosa$Sepal.Length), col = \"red\", lwd = 2)"
   ]
  },
  {
   "cell_type": "code",
   "execution_count": null,
   "metadata": {},
   "outputs": [],
   "source": [
    "# obliczenie wspolczynnika korelacji zaleznosci dlugosci od szerokosci platka u gatunku Iris setosa\n",
    "cor.test(setosa$Petal.Length, setosa$Petal.Width)"
   ]
  },
  {
   "cell_type": "code",
   "execution_count": null,
   "metadata": {},
   "outputs": [],
   "source": [
    "# wykonanie wykresu zaleznosci dlugosci od szerokosci platka u gatunku Iris setosa\n",
    "plot(setosa$Petal.Width ~ setosa$Petal.Length, main = \"Zaleznosc dlugosci od szerokosci platka u gatunku Iris setosa\", xlab = \"Dlugosc platka\", ylab = \"Szerokosc platka\")\n",
    "# dodanie prostej regresji zaleznosci dlugosci od szerokosci platka dla gatunku Iris setosa\n",
    "abline(lm(setosa$Petal.Width ~ setosa$Petal.Length), col = \"red\", lwd = 2)"
   ]
  },
  {
   "cell_type": "code",
   "execution_count": null,
   "metadata": {},
   "outputs": [],
   "source": [
    "# obliczenie wspolczynnika korelacji zaleznosci dlugosci od szerokosci kielicha u gatunku Iris versicolor\n",
    "cor.test(versicolor$Sepal.Length, versicolor$Sepal.Width)"
   ]
  },
  {
   "cell_type": "code",
   "execution_count": null,
   "metadata": {
    "scrolled": false
   },
   "outputs": [],
   "source": [
    "# wykonanie wykresu zaleznosci dlugosci od szerokosci kielicha u gatunku Iris versicolor\n",
    "plot(versicolor$Sepal.Width ~ versicolor$Sepal.Length, main = \"Zaleznosc dlugosci od szerokosci kielicha u gatunku Iris versicolor\", xlab = \"Dlugosc kielicha\", ylab = \"Szerokosc kielicha\")\n",
    "# dodanie prostej regresji zaleznosci dlugosci od szerokosci kielicha dla gatunku Iris versicolor\n",
    "abline(lm(versicolor$Sepal.Width ~ versicolor$Sepal.Length), col = \"red\", lwd = 2)"
   ]
  },
  {
   "cell_type": "code",
   "execution_count": null,
   "metadata": {},
   "outputs": [],
   "source": [
    "# obliczenie wspolczynnika korelacji zaleznosci dlugosci od szerokosci platka u gatunku Iris versicolor\n",
    "cor.test(versicolor$Petal.Length, versicolor$Petal.Width)"
   ]
  },
  {
   "cell_type": "code",
   "execution_count": null,
   "metadata": {},
   "outputs": [],
   "source": [
    "# wykonanie wykresu zaleznosci dlugosci od szerokosci platka dla gatunku Iris versicolor\n",
    "plot(versicolor$Petal.Width ~ versicolor$Petal.Length, main = \"Zaleznosc dlugosci od szerokosci platka u gatunku Iris versicolor\", xlab = \"Dlugosc platka\", ylab = \"Szerokosc platka\")\n",
    "# dodanie prostej regresji zaleznosci dlugosci od szerokosci platka dla gatunku Iris versicolor\n",
    "abline(lm(versicolor$Petal.Width ~ versicolor$Petal.Length), col = \"red\", lwd = 2)"
   ]
  },
  {
   "cell_type": "code",
   "execution_count": null,
   "metadata": {},
   "outputs": [],
   "source": [
    "# obliczenie wspolczynnika korelacji zaleznosci dlugosci od szerokosci kielicha u gatunku Iris virginica\n",
    "cor.test(virginica$Sepal.Length, virginica$Sepal.Width)"
   ]
  },
  {
   "cell_type": "code",
   "execution_count": null,
   "metadata": {
    "scrolled": false
   },
   "outputs": [],
   "source": [
    "# wykonanie wykresu zaleznosci dlugosci od szerokosci kielicha dla gatunku Iris virginica\n",
    "plot(virginica$Sepal.Width ~ virginica$Sepal.Length, main = \"Zaleznosc dlugosci od szerokosci kielicha u gatunku Iris virginica\", xlab = \"Dlugosc kielicha\", ylab = \"Szerokosc kielicha\")\n",
    "# dodanie prostej regresji zaleznosci dlugosci od szerokosci kielicha dla gatunku Iris virginica\n",
    "abline(lm(virginica$Sepal.Width ~ virginica$Sepal.Length), col = \"red\", lwd = 2)"
   ]
  },
  {
   "cell_type": "code",
   "execution_count": null,
   "metadata": {
    "scrolled": true
   },
   "outputs": [],
   "source": [
    "# obliczenie wspolczynnika korelacji zaleznosci dlugosci od szerokosci platka u gatunku Iris virginica\n",
    "cor.test(virginica$Petal.Length, virginica$Petal.Width)"
   ]
  },
  {
   "cell_type": "code",
   "execution_count": null,
   "metadata": {},
   "outputs": [],
   "source": [
    "# wykonanie wykresu zaleznosci dlugosci od szerokosci platka dla gatunku Iris virginica\n",
    "plot(virginica$Petal.Width ~ virginica$Petal.Length, main = \"Zaleznosc dlugosci od szerokosci platka u gatunku Iris virginica\", xlab = \"Dlugosc platka\", ylab = \"Szerokosc platka\")\n",
    "# dodanie prostej regresji zaleznosci dlugosci od szerokosci platka dla gatunku Iris virginica\n",
    "abline(lm(virginica$Petal.Width ~ virginica$Petal.Length), col = \"red\", lwd = 2)"
   ]
  },
  {
   "cell_type": "code",
   "execution_count": null,
   "metadata": {
    "scrolled": false
   },
   "outputs": [],
   "source": [
    "# wykonanie powyzszych testow korelacji oraz wykresow za pomoca petli for i pakietu dplyr\n",
    "for (item in unique(iris$Species)) {\n",
    "  plot((iris %>% filter(Species == item))$Sepal.Length, (iris %>% filter(Species == item))$Sepal.Width, main = item, xlab = 'Dlugosc kielicha', ylab = 'Szerokosc kielicha')\n",
    "  print(cor.test((iris %>% filter(Species == item))$Sepal.Length, (iris %>% filter(Species == item))$Sepal.Width))\n",
    "  plot((iris %>% filter(Species == item))$Petal.Length, (iris %>% filter(Species == item))$Petal.Width, main = item, xlab = 'Dlugosc platka', ylab = 'Szerokosc platka')\n",
    "  print(cor.test((iris %>% filter(Species == item))$Petal.Length, (iris %>% filter(Species == item))$Petal.Width))\n",
    "}"
   ]
  },
  {
   "cell_type": "code",
   "execution_count": null,
   "metadata": {},
   "outputs": [],
   "source": [
    "# instalacja pakietu ggpubr\n",
    "#install.packages(\"ggpubr\")"
   ]
  },
  {
   "cell_type": "code",
   "execution_count": null,
   "metadata": {},
   "outputs": [],
   "source": [
    "# wczytanie pakietu ggpubr\n",
    "library(ggpubr)"
   ]
  },
  {
   "cell_type": "code",
   "execution_count": null,
   "metadata": {
    "scrolled": false
   },
   "outputs": [],
   "source": [
    "# wykonanie powyzszych testow korelacji oraz wykresow wraz z prosta regresji za pomoca petli for i pakietow dplyr oraz ggpubr\n",
    "for (item in unique(iris$Species)) {\n",
    "  print(ggscatter((iris %>% filter(Species == item)), x = \"Sepal.Length\", y = \"Sepal.Width\", add = \"reg.line\", conf.int = TRUE, cor.coef = TRUE, cor.method = \"pearson\", xlab = \"Dlugosc kielicha\", ylab = \"Szerokosc kielicha\", main = item))\n",
    "  print(ggscatter((iris %>% filter(Species == item)), x = \"Petal.Length\", y = \"Petal.Width\", add = \"reg.line\", conf.int = TRUE, cor.coef = TRUE, cor.method = \"pearson\", xlab = \"Dlugosc platka\", ylab = \"Szerokosc platka\", main = item))\n",
    "}"
   ]
  },
  {
   "cell_type": "markdown",
   "metadata": {},
   "source": [
    "##### Wnioski\n",
    "Na podstawie przygotowanych powyżej modeli i narysowanych wykresów możemy wyciągnąć wnioski dotyczące badanych zależności. W przypadku gatunku Iris setosa o dosyć silnej dodatniej zależności długości od szerokości kielicha oraz słabej dodatniej zależności długości od szerokości płatka. Dla gatunku Iris versicolor występuje przeciwna obserwacja - zależność dotycząca kielicha jest średnia dodatnia, kiedy to silna dodatnia zależność dotyczy płatków. Natomiast dla ostatniego gatunku Iris virginica obie zależności dla kielicha i płatka są dodatnie odpowiednio średnio oraz słabo.\n",
    "Wszystkie wyniki były istotne statystycznie, ponieważ otrzymane p-wartości były mniejsze niż założony poziom istotności wynoszący 0.05."
   ]
  },
  {
   "cell_type": "markdown",
   "metadata": {},
   "source": [
    "####  (c) Porównaj wartości współczynników korelacji dla długości kielicha i długości płatka. Dla którego z gatunków korelacja ta jest największa? Sprawdź istotność tych współczynników korelacji. Jakie dwie zmienne są najmocniej skorelowane dla poszczególnych gatunków?"
   ]
  },
  {
   "cell_type": "code",
   "execution_count": null,
   "metadata": {
    "scrolled": true
   },
   "outputs": [],
   "source": [
    "# obliczenie wspolczynnika korelacji zaleznosci dlugosci kielicha od dlugosci platka u gatunku Iris setosa\n",
    "cor.test(setosa$Sepal.Length, setosa$Petal.Length)"
   ]
  },
  {
   "cell_type": "code",
   "execution_count": null,
   "metadata": {},
   "outputs": [],
   "source": [
    "# obliczenie wspolczynnika korelacji zaleznosci dlugosci kielicha od dlugosci platka u gatunku Iris versicolor\n",
    "cor.test(versicolor$Sepal.Length, versicolor$Petal.Length)"
   ]
  },
  {
   "cell_type": "code",
   "execution_count": null,
   "metadata": {},
   "outputs": [],
   "source": [
    "# obliczenie wspolczynnika korelacji zaleznosci dlugosci kielicha od dlugosci platka u gatunku Iris virginica\n",
    "cor.test(virginica$Sepal.Length, virginica$Petal.Length)"
   ]
  },
  {
   "cell_type": "code",
   "execution_count": null,
   "metadata": {},
   "outputs": [],
   "source": [
    "# wykonanie powyzszych testow korelacji oraz wykresow wraz z prosta regresji za pomoca petli for i pakietow dplyr oraz ggpubr\n",
    "for (item in unique(iris$Species)) {\n",
    "  print(ggscatter((iris %>% filter(Species == item)), x = \"Sepal.Length\", y = \"Petal.Length\", add = \"reg.line\", conf.int = TRUE, cor.coef = TRUE, cor.method = \"pearson\", xlab = \"Dlugosc kielicha\", ylab = \"Dlugosc platka\", main = item))\n",
    "}"
   ]
  },
  {
   "cell_type": "code",
   "execution_count": null,
   "metadata": {
    "scrolled": true
   },
   "outputs": [],
   "source": [
    "# macierz korelacji dla dlugosci kielicha i dlugosci platka dla kazdego gatunku rosliny\n",
    "for (item in unique(iris$Species)) {\n",
    "  print(item)\n",
    "  test = (iris %>% filter(Species == item))[, c(1, 3)]\n",
    "  print(cor(test))\n",
    "}"
   ]
  },
  {
   "cell_type": "code",
   "execution_count": null,
   "metadata": {},
   "outputs": [],
   "source": [
    "# macierz korelacji dla kazdego gatunku rosliny\n",
    "for (item in unique(iris$Species)) {\n",
    "  print(item)\n",
    "  test = (iris %>% filter(Species == item))[, c(1, 2, 3, 4)]\n",
    "  print(cor(test))\n",
    "}"
   ]
  },
  {
   "cell_type": "markdown",
   "metadata": {},
   "source": [
    "##### Wnioski\n",
    "Największa korelacja pomiędzy długością kielicha i długością płatka występuje u gatunku Iris virginica. Warto zauważyć, że otrzymane wyniki są istotne statystycznie tylko dla gatunków Iris versicolor oraz Iris virginica, ponieważ dla Iris setosa p-wartość jest niewiele większa niż 0.05 (p-value = 0.0607). Dla gatunku Iris setosa najmocniej skorelowane są zmienne dotyczące długości i szerokości kielicha, dla Iris versicolor długości i szerokości płatka, a dla Iris virginica długości kielicha i długości płatka. Widać tutaj, że dla każdego gatunku inna para wielkości jest najmocniej zależna od siebie."
   ]
  },
  {
   "cell_type": "markdown",
   "metadata": {},
   "source": [
    "#### (d) Dla gatunku setosa przeanalizuj i zinterpretuj wpływ zmiennych objaśniających $Petal.Width$ (szerokość płatka), $Sepal.Length$ (długość kielicha), $Sepal.Width$ (szerokość kielicha) na zmienną $Petal.Length$ (długość płatka) przy użyciu modelu regresji wielokrotnej. Przyjmując poziom istotności równy 0.05 dokonaj krokowej procedury wyboru modelu eliminując zmienne nieistotne o największej p-wartości. Napisz i zinterpretuj otrzymany końcowy model."
   ]
  },
  {
   "cell_type": "code",
   "execution_count": null,
   "metadata": {
    "scrolled": false
   },
   "outputs": [],
   "source": [
    "# wykonanie 1. modelu zaleznosci dla gatunku Iris setosa\n",
    "model_setosa_1 = lm(Petal.Length ~ ., data = setosa)\n",
    "# podsumowanie 1. modelu\n",
    "summary(model_setosa_1)"
   ]
  },
  {
   "cell_type": "markdown",
   "metadata": {},
   "source": [
    "##### Wniosek\n",
    "Największą p-wartością charakteryzuje się zmienna dotycząca szerokości kielicha (Sepal.Width), zatem to ją wyrzucamy."
   ]
  },
  {
   "cell_type": "code",
   "execution_count": null,
   "metadata": {},
   "outputs": [],
   "source": [
    "# wykonanie 2. modelu zaleznosci dla gatunku Iris setosa\n",
    "model_setosa_2 = lm(Petal.Length ~ . - Sepal.Width, data = setosa)\n",
    "# podsumowanie 2. modelu\n",
    "summary(model_setosa_2)"
   ]
  },
  {
   "cell_type": "markdown",
   "metadata": {},
   "source": [
    "##### Wniosek\n",
    "Największą p-wartością charakteryzuje się zmienna dotycząca długości kielicha (Sepal.Length), zatem to ją wyrzucamy."
   ]
  },
  {
   "cell_type": "code",
   "execution_count": null,
   "metadata": {
    "scrolled": true
   },
   "outputs": [],
   "source": [
    "# wykonanie 3. modelu zaleznosci dla gatunku Iris setosa\n",
    "model_setosa_3 = lm(Petal.Length ~ . - Sepal.Width - Sepal.Length, data = setosa)\n",
    "# podsumowanie 3. modelu\n",
    "summary(model_setosa_3)"
   ]
  },
  {
   "cell_type": "markdown",
   "metadata": {},
   "source": [
    "##### Wniosek\n",
    "Pozostała zmienna oraz otrzymany wyraz wolny są istotne statystycznie (ich p-wartości są mniejsze niż 0.05)."
   ]
  },
  {
   "cell_type": "markdown",
   "metadata": {},
   "source": [
    "##### Otrzymany model - zależność długości płatka od jego szerokości:\n",
    "$\\textrm{Petal.Length} = 1.32756 + 0.54649 \\cdot \\textrm{Petal.Width}$"
   ]
  },
  {
   "cell_type": "markdown",
   "metadata": {},
   "source": [
    "##### Interpretacja modelu\n",
    "Wyraz wolny ($\\beta_0 = 1.32756$) - dla szerokości płatka wynoszącej 0, jego długość wynosi 1.32756 (jest to sytuacja nierealna).\n",
    "Współczynnik kierunkowy ($\\beta_1 = 0.54649$) - dla zwiększenia szerokości płatka o 1 jednostkę, jego długość zwiększa się o 0.54649."
   ]
  }
 ],
 "metadata": {
  "interpreter": {
   "hash": "9ed2595fbb52318bd13e96176bceb9c3ad05e077cd1c0eefbfe05006177ea8a4"
  },
  "kernelspec": {
   "display_name": "R",
   "language": "R",
   "name": "ir"
  },
  "language_info": {
   "codemirror_mode": "r",
   "file_extension": ".r",
   "mimetype": "text/x-r-source",
   "name": "R",
   "pygments_lexer": "r",
   "version": "3.5.1"
  }
 },
 "nbformat": 4,
 "nbformat_minor": 4
}
