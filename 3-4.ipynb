{
 "cells": [
  {
   "cell_type": "markdown",
   "metadata": {},
   "source": [
    "## Lista 3"
   ]
  },
  {
   "cell_type": "markdown",
   "metadata": {},
   "source": [
    "Zadanie 6\n",
    "Plik dane_wino.txt zawiera dane dotyczące koncentracji\n",
    "trzynastu różnych substancji chemicznych zawartych w winie pochodzącym\n",
    "z jednego regionu Włoch, ale z trzech różnych upraw. Zmienna V1 jest indeksem ze zbioru {1, 2, 3} oznaczającym trzy typy uprawy. Zmienne V2 do V14\n",
    "oznaczają poziomy koncentracji kolejnych substancji chemicznych. Dla tych\n",
    "danych przyjmij, że prawdopodobieństwa a priori przynależności do klas są\n",
    "równe 1/3"
   ]
  },
  {
   "cell_type": "markdown",
   "metadata": {},
   "source": [
    "##### i) Jakie są średnie wartości w grupach?"
   ]
  },
  {
   "cell_type": "markdown",
   "metadata": {},
   "source": [
    "#### ii) Jakie są wartości współczynników funkcji dyskryminacyjnych?"
   ]
  },
  {
   "cell_type": "markdown",
   "metadata": {},
   "source": [
    "#### iii) Dla każdej z funkcji dyskryminacyjnych określ która ze zmiennych objaśniających jest najbardziej istotna."
   ]
  },
  {
   "cell_type": "markdown",
   "metadata": {},
   "source": [
    "#### iv) Jakie są średnie wartości funkcji dyskryminacyjnych w każdej z grup?"
   ]
  },
  {
   "cell_type": "markdown",
   "metadata": {},
   "source": [
    "#### v) Przeprowadź predykcję przynależności do klas na zbiorze testowym."
   ]
  },
  {
   "cell_type": "markdown",
   "metadata": {},
   "source": [
    "#### vi) Jakie są prawdopodobieństwa przynależności do klas dla dwudziestej obserwacji?"
   ]
  },
  {
   "cell_type": "markdown",
   "metadata": {},
   "source": [
    "#### vii) Do której z klas zostanie zaklasyfikowana ta obserwacja?"
   ]
  },
  {
   "cell_type": "markdown",
   "metadata": {},
   "source": [
    "#### viii) Wyznacz procent właściwie zaklasyfikowanych obiektów."
   ]
  },
  {
   "cell_type": "markdown",
   "metadata": {},
   "source": [
    "#### ix) Przedstaw i skomentuj tabelę predykcji."
   ]
  },
  {
   "cell_type": "markdown",
   "metadata": {},
   "source": [
    "## Lista 4"
   ]
  },
  {
   "cell_type": "markdown",
   "metadata": {},
   "source": [
    "#### i) Dokonaj podziału obserwacji na podzbiór uczący (75% obserwacji, wybranych w sposób losowy) oraz zbiór testowy (pozostałe)."
   ]
  },
  {
   "cell_type": "markdown",
   "metadata": {},
   "source": [
    "#### ii) Dopasuj model regresji logistycznej bazując na podzbiorze uczącym, przyjmując za zmienną objaśnianą TetnoSpocz."
   ]
  },
  {
   "cell_type": "markdown",
   "metadata": {},
   "source": [
    "#### iii) Stosując krokową procedurę wyboru modelu zdecyduj, które zmienne powinny pozostać w modelu."
   ]
  },
  {
   "cell_type": "markdown",
   "metadata": {},
   "source": [
    "#### iv) Dopasuj model regresji logistycznej bazując na podzbiorze uczącym, uwzględniający interakcję pomiędzy zmiennymi objaśniającymi."
   ]
  },
  {
   "cell_type": "markdown",
   "metadata": {},
   "source": [
    "#### v) Przeanalizuj modele zawierające jako zmienne objaśniające następujące zestawy zmiennych:\n",
    "#### M1: Palacz, Waga, Palacz*Waga\n",
    "#### M2: Waga, Palacz*Waga\n",
    "#### M3: Palacz, Palacz*Waga\n",
    "#### M4: Palacz*Waga\n",
    "#### Który z tych modeli zawiera tylko istotne zmienne objaśniające?"
   ]
  },
  {
   "cell_type": "markdown",
   "metadata": {},
   "source": []
  },
  {
   "cell_type": "markdown",
   "metadata": {},
   "source": [
    "#### vi) Dla pełnego modelu bez interakcji i modelu wskazanego w punkcie (v) skonstruuj klasyfikatory w oparciu o próbę uczącą. Przedstaw na rysunku klasyfikację dokonaną przez oba klasyfikatory. Wyznacz błąd klasyfikacji na próbie testowej."
   ]
  },
  {
   "cell_type": "markdown",
   "metadata": {},
   "source": [
    "#### vii) Skonstruuj klasyfikatory w oparciu o metodę LDA bazując na próbie uczącej oraz porównaj ich błędy klasyfikacji na próbie testowej z błędami klasyfikacji klasyfikatorów opartych na regresji logistycznej. Skomentuj uzyskane wyniki."
   ]
  }
 ],
 "metadata": {
  "kernelspec": {
   "display_name": "R",
   "language": "R",
   "name": "ir"
  },
  "language_info": {
   "name": "R"
  },
  "orig_nbformat": 4
 },
 "nbformat": 4,
 "nbformat_minor": 2
}
